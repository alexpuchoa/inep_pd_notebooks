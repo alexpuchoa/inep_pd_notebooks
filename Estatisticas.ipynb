{
  "nbformat": 4,
  "nbformat_minor": 0,
  "metadata": {
    "colab": {
      "provenance": []
    },
    "kernelspec": {
      "name": "python3",
      "display_name": "Python 3"
    },
    "language_info": {
      "name": "python"
    }
  },
  "cells": [
    {
      "cell_type": "markdown",
      "source": [
        "\"ALUNO_ID\": aluno_id,\n",
        "\"NO_REGIAO\": nome_regiao,\n",
        "\"CO_REGIAO\": cod_regiao,\n",
        "\"SG_UF\": sigla_uf,\n",
        "\"CO_UF\": cod_uf,\n",
        "\"NO_MUNICIPIO\": nome_municipio,\n",
        "\"CO_MUNICIPIO\": cod_municipio,\n",
        "\"CO_ESCOLA\": cod_escola,\n",
        "\"GENERO\": genero,\n",
        "\"RACA\": raca,\n",
        "\"IDADE\": idade,\n",
        "\"NOTA\": nota"
      ],
      "metadata": {
        "id": "Nrxx4xbjlklc"
      }
    },
    {
      "cell_type": "code",
      "execution_count": null,
      "metadata": {
        "id": "VREHi2dnkFPY"
      },
      "outputs": [],
      "source": [
        "import pandas as pd\n",
        "\n",
        "df_sintetico = pd.read_csv(\"dataset_sintetico_final.csv\")\n"
      ]
    },
    {
      "cell_type": "markdown",
      "source": [
        "(A) Contagem de alunos"
      ],
      "metadata": {
        "id": "RWY5fbI4k2RD"
      }
    },
    {
      "cell_type": "code",
      "source": [
        "total_alunos = df_sintetico[\"ALUNO_ID\"].nunique()\n",
        "\n",
        "contagem_regiao = df_sintetico.groupby(\"NO_REGIAO\")[\"ALUNO_ID\"].count()\n",
        "contagem_estado = df_sintetico.groupby(\"SG_UF\")[\"ALUNO_ID\"].count()\n",
        "contagem_municipio = df_sintetico.groupby(\"NO_MUNICIPIO\")[\"ALUNO_ID\"].count()\n",
        "contagem_escola = df_sintetico.groupby(\"CO_ENTIDADE\")[\"ALUNO_ID\"].count()"
      ],
      "metadata": {
        "id": "nJyf_AgYkXUF"
      },
      "execution_count": null,
      "outputs": []
    },
    {
      "cell_type": "markdown",
      "source": [
        "(B) Média de notas"
      ],
      "metadata": {
        "id": "MaAZoriElZDY"
      }
    },
    {
      "cell_type": "code",
      "source": [
        "media_notas_geral = df_sintetico[\"NOTA\"].mean()\n",
        "\n",
        "media_notas_regiao = df_sintetico.groupby(\"NO_REGIAO\")[\"NOTA\"].mean()\n",
        "media_notas_estado = df_sintetico.groupby(\"SG_UF\")[\"NOTA\"].mean()\n",
        "media_notas_municipio = df_sintetico.groupby(\"NO_MUNICIPIO\")[\"NOTA\"].mean()\n",
        "media_notas_escola = df_sintetico.groupby(\"CO_ESCOLA\")[\"NOTA\"].mean()"
      ],
      "metadata": {
        "id": "7ruTyawUlaNH"
      },
      "execution_count": null,
      "outputs": []
    },
    {
      "cell_type": "markdown",
      "source": [
        "(D) Percentil 25, 50, 75"
      ],
      "metadata": {
        "id": "rM6Qth4Zm2pj"
      }
    },
    {
      "cell_type": "code",
      "source": [
        "percentis = df_sintetico[\"NOTA\"].quantile([0.25, 0.5, 0.75])\n"
      ],
      "metadata": {
        "id": "z7QM_I8km9yB"
      },
      "execution_count": null,
      "outputs": []
    },
    {
      "cell_type": "markdown",
      "source": [
        "(E) Desvio Padrão"
      ],
      "metadata": {
        "id": "EFkRb3lKnfR-"
      }
    },
    {
      "cell_type": "code",
      "source": [
        "desvio_padrao_notas = df_sintetico[\"NOTA\"].std()\n",
        "\n",
        "desvio_padrao_notas_regiao = df_sintetico.groupby(\"NO_REGIAO\")[\"NOTA\"].std()\n",
        "desvio_padrao_notas_estado = df_sintetico.groupby(\"SG_UF\")[\"NOTA\"].std()\n",
        "desvio_padrao_notas_municipio = df_sintetico.groupby(\"NO_MUNICIPIO\")[\"NOTA\"].std()\n",
        "desvio_padrao_notas_escola = df_sintetico.groupby(\"CO_ESCOLA\")[\"NOTA\"].std()"
      ],
      "metadata": {
        "id": "vyGvjQtCn5eu"
      },
      "execution_count": null,
      "outputs": []
    },
    {
      "cell_type": "markdown",
      "source": [
        "(F) Medianas de notas"
      ],
      "metadata": {
        "id": "6HyT55vJnxFZ"
      }
    },
    {
      "cell_type": "code",
      "source": [
        "mediana_notas = df_sintetico[\"NOTA_AVALIACAO\"].median()\n",
        "\n",
        "mediana_notas_regiao = df_sintetico.groupby(\"NO_REGIAO\")[\"NOTA\"].median()\n",
        "mediana_notas_estado = df_sintetico.groupby(\"SG_UF\")[\"NOTA\"].median()\n",
        "mediana_notas_municipio = df_sintetico.groupby(\"NO_MUNICIPIO\")[\"NOTA\"].median()\n",
        "mediana_notas_escola = df_sintetico.groupby(\"CO_ESCOLA\")[\"NOTA\"].median()"
      ],
      "metadata": {
        "id": "T7TAdismnlJs"
      },
      "execution_count": null,
      "outputs": []
    }
  ]
}